{
 "cells": [
  {
   "cell_type": "code",
   "execution_count": 1,
   "metadata": {},
   "outputs": [
    {
     "name": "stderr",
     "output_type": "stream",
     "text": [
      "/home/marcelovargas/FRB/frblip/frblip/__init__.py:16: UserWarning: \n",
      "\n",
      "FRBlip is a beta version yet, andis available only for BINGO members.\n",
      "Please do not use it for any othergoals or share the code with someone outside the colaboration.\n",
      "Report any bug to mvsantos_at_protonmail.com\n",
      "\n",
      "  warnings.warn(warning_message)\n"
     ]
    }
   ],
   "source": [
    "import numpy as np\n",
    "\n",
    "import pandas as pd\n",
    "\n",
    "import matplotlib.pyplot as plt\n",
    "\n",
    "from frblip import CosmicBursts, RadioSurvey, ObservedBursts"
   ]
  },
  {
   "cell_type": "code",
   "execution_count": 2,
   "metadata": {},
   "outputs": [
    {
     "name": "stdout",
     "output_type": "stream",
     "text": [
      "Computing the FRB rate ...\n",
      "FRB rate = 270010.0 1 / d\n",
      "270010 FRBs will be simulated, the actual rate is 270010.0 1 / d .\n",
      "Therefore it corrensponds to 24.0 h of observation. \n",
      "\n"
     ]
    }
   ],
   "source": [
    "# Create a mock of Cosmic Bursts\n",
    "# run help(CosmicBursts) to check the possible arguments\n",
    "frbs = CosmicBursts()"
   ]
  },
  {
   "cell_type": "code",
   "execution_count": 3,
   "metadata": {},
   "outputs": [
    {
     "data": {
      "text/plain": [
       "array([2.68951018, 4.37644698, 4.65564605, ..., 3.80595517, 4.52816717,\n",
       "       1.71636067])"
      ]
     },
     "execution_count": 3,
     "metadata": {},
     "output_type": "execute_result"
    }
   ],
   "source": [
    "# access a quantity\n",
    "frbs.redshift"
   ]
  },
  {
   "cell_type": "code",
   "execution_count": 4,
   "metadata": {},
   "outputs": [
    {
     "data": {
      "text/latex": [
       "$[22811.065,~40768.914,~43847.785,~\\dots,~34560.186,~42438.881,~13206.416] \\; \\mathrm{Mpc}$"
      ],
      "text/plain": [
       "<Quantity [22811.06457504, 40768.91423017, 43847.78536662, ...,\n",
       "           34560.18586038, 42438.88094323, 13206.41648491] Mpc>"
      ]
     },
     "execution_count": 4,
     "metadata": {},
     "output_type": "execute_result"
    }
   ],
   "source": [
    "# Note that frblip uses units from astropy package\n",
    "frbs.luminosity_distance"
   ]
  },
  {
   "cell_type": "code",
   "execution_count": 5,
   "metadata": {},
   "outputs": [
    {
     "data": {
      "text/plain": [
       "dict_keys(['zmax', 'L_0', 'Lstar', 'phistar', 'alpha', 'ra_range', 'dec_range', 'lower_frequency', 'higher_frequency', 'cosmo', 'sky_area', 'sky_rate', 'area', 'rate', 'n_frb', 'duration', 'redshift', 'comoving_distance', 'luminosity_distance', 'luminosity', 'flux', 'pulse_width', 'arrived_pulse_width', 'time', 'spectral_index', 'dnu', 'sky_coord', 'galactic_dispersion', 'host_dispersion', 'source_dispersion', 'igm_dispersion', 'extra_galactic_dispersion', 'dispersion'])"
      ]
     },
     "execution_count": 5,
     "metadata": {},
     "output_type": "execute_result"
    }
   ],
   "source": [
    "# possible quantities and methods\n",
    "frbs.__dict__.keys()"
   ]
  },
  {
   "cell_type": "code",
   "execution_count": 6,
   "metadata": {},
   "outputs": [],
   "source": [
    "# Convert to a pandas dataframe\n",
    "df = frbs.to_pandas()"
   ]
  },
  {
   "cell_type": "code",
   "execution_count": 7,
   "metadata": {},
   "outputs": [
    {
     "data": {
      "text/html": [
       "<div>\n",
       "<style scoped>\n",
       "    .dataframe tbody tr th:only-of-type {\n",
       "        vertical-align: middle;\n",
       "    }\n",
       "\n",
       "    .dataframe tbody tr th {\n",
       "        vertical-align: top;\n",
       "    }\n",
       "\n",
       "    .dataframe thead th {\n",
       "        text-align: right;\n",
       "    }\n",
       "</style>\n",
       "<table border=\"1\" class=\"dataframe\">\n",
       "  <thead>\n",
       "    <tr style=\"text-align: right;\">\n",
       "      <th></th>\n",
       "      <th>Redshift</th>\n",
       "      <th>Comoving Distance (Mpc)</th>\n",
       "      <th>Luminosity (erg/s)</th>\n",
       "      <th>Flux (Jy * MHz)</th>\n",
       "      <th>Right Ascension (hour)</th>\n",
       "      <th>Declination (degree)</th>\n",
       "      <th>Galactic Longitude (degree)</th>\n",
       "      <th>Galactic Latitude (degree)</th>\n",
       "      <th>Intrinsic Pulse Width (ms)</th>\n",
       "      <th>Arrived Pulse Width (ms)</th>\n",
       "      <th>Galactic DM (pc/cm^3)</th>\n",
       "      <th>Host Galaxy DM (pc/cm^3)</th>\n",
       "      <th>Intergalactic Medium DM (pc/cm^3)</th>\n",
       "      <th>Source DM (pc/cm^3)</th>\n",
       "      <th>Dispersion Measure (pc/cm^3)</th>\n",
       "      <th>Spectral Index</th>\n",
       "      <th>Time (ms)</th>\n",
       "    </tr>\n",
       "  </thead>\n",
       "  <tbody>\n",
       "    <tr>\n",
       "      <th>0</th>\n",
       "      <td>4.062598</td>\n",
       "      <td>7375.458740</td>\n",
       "      <td>1.612992e+42</td>\n",
       "      <td>0.966933</td>\n",
       "      <td>8.872341</td>\n",
       "      <td>69.995805</td>\n",
       "      <td>144.241142</td>\n",
       "      <td>35.572870</td>\n",
       "      <td>0.939513</td>\n",
       "      <td>4.756379</td>\n",
       "      <td>45.916190</td>\n",
       "      <td>47.373316</td>\n",
       "      <td>3222.446285</td>\n",
       "      <td>40.764940</td>\n",
       "      <td>3285.772162</td>\n",
       "      <td>7.085851</td>\n",
       "      <td>511.0</td>\n",
       "    </tr>\n",
       "    <tr>\n",
       "      <th>1</th>\n",
       "      <td>2.420789</td>\n",
       "      <td>5871.802903</td>\n",
       "      <td>2.346228e+42</td>\n",
       "      <td>4.860306</td>\n",
       "      <td>0.054011</td>\n",
       "      <td>-30.404570</td>\n",
       "      <td>12.851847</td>\n",
       "      <td>-78.948176</td>\n",
       "      <td>1.551278</td>\n",
       "      <td>5.306594</td>\n",
       "      <td>29.260380</td>\n",
       "      <td>55.585217</td>\n",
       "      <td>2089.986033</td>\n",
       "      <td>44.951556</td>\n",
       "      <td>2148.636347</td>\n",
       "      <td>13.194238</td>\n",
       "      <td>822.0</td>\n",
       "    </tr>\n",
       "    <tr>\n",
       "      <th>2</th>\n",
       "      <td>5.933361</td>\n",
       "      <td>8396.413204</td>\n",
       "      <td>1.809888e+42</td>\n",
       "      <td>0.446340</td>\n",
       "      <td>8.251780</td>\n",
       "      <td>-42.968616</td>\n",
       "      <td>259.648401</td>\n",
       "      <td>-4.490668</td>\n",
       "      <td>0.964458</td>\n",
       "      <td>6.686937</td>\n",
       "      <td>587.631566</td>\n",
       "      <td>12.479222</td>\n",
       "      <td>4270.898846</td>\n",
       "      <td>31.191951</td>\n",
       "      <td>4864.829113</td>\n",
       "      <td>-8.299120</td>\n",
       "      <td>1381.0</td>\n",
       "    </tr>\n",
       "    <tr>\n",
       "      <th>3</th>\n",
       "      <td>2.392437</td>\n",
       "      <td>5836.770720</td>\n",
       "      <td>1.793271e+42</td>\n",
       "      <td>3.822664</td>\n",
       "      <td>1.417123</td>\n",
       "      <td>2.212662</td>\n",
       "      <td>139.673701</td>\n",
       "      <td>-59.562827</td>\n",
       "      <td>0.594609</td>\n",
       "      <td>2.017174</td>\n",
       "      <td>33.160934</td>\n",
       "      <td>30.360036</td>\n",
       "      <td>2068.248203</td>\n",
       "      <td>46.671076</td>\n",
       "      <td>2124.115856</td>\n",
       "      <td>10.020179</td>\n",
       "      <td>2035.0</td>\n",
       "    </tr>\n",
       "    <tr>\n",
       "      <th>4</th>\n",
       "      <td>2.056994</td>\n",
       "      <td>5390.773211</td>\n",
       "      <td>1.825077e+42</td>\n",
       "      <td>5.616670</td>\n",
       "      <td>12.470842</td>\n",
       "      <td>9.255261</td>\n",
       "      <td>284.810551</td>\n",
       "      <td>71.306614</td>\n",
       "      <td>0.836373</td>\n",
       "      <td>2.556789</td>\n",
       "      <td>28.551227</td>\n",
       "      <td>23.191247</td>\n",
       "      <td>1805.558403</td>\n",
       "      <td>39.588976</td>\n",
       "      <td>1854.646215</td>\n",
       "      <td>-8.579960</td>\n",
       "      <td>2076.0</td>\n",
       "    </tr>\n",
       "  </tbody>\n",
       "</table>\n",
       "</div>"
      ],
      "text/plain": [
       "   Redshift  Comoving Distance (Mpc)  Luminosity (erg/s)  Flux (Jy * MHz)  \\\n",
       "0  4.062598              7375.458740        1.612992e+42         0.966933   \n",
       "1  2.420789              5871.802903        2.346228e+42         4.860306   \n",
       "2  5.933361              8396.413204        1.809888e+42         0.446340   \n",
       "3  2.392437              5836.770720        1.793271e+42         3.822664   \n",
       "4  2.056994              5390.773211        1.825077e+42         5.616670   \n",
       "\n",
       "   Right Ascension (hour)  Declination (degree)  Galactic Longitude (degree)  \\\n",
       "0                8.872341             69.995805                   144.241142   \n",
       "1                0.054011            -30.404570                    12.851847   \n",
       "2                8.251780            -42.968616                   259.648401   \n",
       "3                1.417123              2.212662                   139.673701   \n",
       "4               12.470842              9.255261                   284.810551   \n",
       "\n",
       "   Galactic Latitude (degree)  Intrinsic Pulse Width (ms)  \\\n",
       "0                   35.572870                    0.939513   \n",
       "1                  -78.948176                    1.551278   \n",
       "2                   -4.490668                    0.964458   \n",
       "3                  -59.562827                    0.594609   \n",
       "4                   71.306614                    0.836373   \n",
       "\n",
       "   Arrived Pulse Width (ms)  Galactic DM (pc/cm^3)  Host Galaxy DM (pc/cm^3)  \\\n",
       "0                  4.756379              45.916190                 47.373316   \n",
       "1                  5.306594              29.260380                 55.585217   \n",
       "2                  6.686937             587.631566                 12.479222   \n",
       "3                  2.017174              33.160934                 30.360036   \n",
       "4                  2.556789              28.551227                 23.191247   \n",
       "\n",
       "   Intergalactic Medium DM (pc/cm^3)  Source DM (pc/cm^3)  \\\n",
       "0                        3222.446285            40.764940   \n",
       "1                        2089.986033            44.951556   \n",
       "2                        4270.898846            31.191951   \n",
       "3                        2068.248203            46.671076   \n",
       "4                        1805.558403            39.588976   \n",
       "\n",
       "   Dispersion Measure (pc/cm^3)  Spectral Index  Time (ms)  \n",
       "0                   3285.772162        7.085851      511.0  \n",
       "1                   2148.636347       13.194238      822.0  \n",
       "2                   4864.829113       -8.299120     1381.0  \n",
       "3                   2124.115856       10.020179     2035.0  \n",
       "4                   1854.646215       -8.579960     2076.0  "
      ]
     },
     "execution_count": 7,
     "metadata": {},
     "output_type": "execute_result"
    }
   ],
   "source": [
    "df.head()"
   ]
  },
  {
   "cell_type": "code",
   "execution_count": 8,
   "metadata": {},
   "outputs": [],
   "source": [
    "# Save csv file, same pd.DataFrame.to_csv optional arguments can be used\n",
    "frbs.to_csv('frbs.csv')"
   ]
  },
  {
   "cell_type": "code",
   "execution_count": 9,
   "metadata": {},
   "outputs": [],
   "source": [
    "# Load a Radio Telescope\n",
    "# run help(RadioTelescope) to check the possible arguments\n",
    "bingo = RadioTelescope()"
   ]
  },
  {
   "cell_type": "code",
   "execution_count": 10,
   "metadata": {},
   "outputs": [],
   "source": [
    "#Perform observations on a mock of Cosmic Bursts \n",
    "observations = bingo(frbs)"
   ]
  },
  {
   "cell_type": "code",
   "execution_count": 11,
   "metadata": {},
   "outputs": [],
   "source": [
    "# save the results on a npz file\n",
    "observations.save('teste')"
   ]
  },
  {
   "cell_type": "code",
   "execution_count": 12,
   "metadata": {},
   "outputs": [],
   "source": [
    "# load\n",
    "obs = ObservedBursts('teste.npz')"
   ]
  },
  {
   "cell_type": "code",
   "execution_count": 13,
   "metadata": {},
   "outputs": [
    {
     "data": {
      "text/latex": [
       "$[[[0,~0,~0,~\\dots,~0,~0,~0],~\n",
       "  [0,~0,~0,~\\dots,~0,~0,~0],~\n",
       "  [0,~0,~0,~\\dots,~0,~0,~0],~\n",
       "  \\dots,~\n",
       "  [0,~0,~0,~\\dots,~0,~0,~0],~\n",
       "  [0,~0,~0,~\\dots,~0,~0,~0],~\n",
       "  [0,~0,~0,~\\dots,~0,~0,~0]],~\n",
       "\n",
       " [[0,~0,~0,~\\dots,~0,~0,~0],~\n",
       "  [0,~0,~0,~\\dots,~0,~0,~0],~\n",
       "  [0,~0,~0,~\\dots,~0,~0,~0],~\n",
       "  \\dots,~\n",
       "  [0,~0,~0,~\\dots,~0,~0,~0],~\n",
       "  [0,~0,~0,~\\dots,~0,~0,~0],~\n",
       "  [0,~0,~0,~\\dots,~0,~0,~0]],~\n",
       "\n",
       " [[0,~0,~0,~\\dots,~0,~0,~0],~\n",
       "  [0,~0,~0,~\\dots,~0,~0,~0],~\n",
       "  [0,~0,~0,~\\dots,~0,~0,~0],~\n",
       "  \\dots,~\n",
       "  [0,~0,~0,~\\dots,~0,~0,~0],~\n",
       "  [0,~0,~0,~\\dots,~0,~0,~0],~\n",
       "  [0,~0,~0,~\\dots,~0,~0,~0]],~\n",
       "\n",
       " \\dots,~\n",
       "\n",
       " [[0,~0,~0,~\\dots,~0,~0,~0],~\n",
       "  [0,~0,~0,~\\dots,~0,~0,~0],~\n",
       "  [0,~0,~0,~\\dots,~0,~0,~0],~\n",
       "  \\dots,~\n",
       "  [0,~0,~0,~\\dots,~0,~0,~0],~\n",
       "  [0,~0,~0,~\\dots,~0,~0,~0],~\n",
       "  [0,~0,~0,~\\dots,~0,~0,~0]],~\n",
       "\n",
       " [[0,~0,~0,~\\dots,~0,~0,~0],~\n",
       "  [0,~0,~0,~\\dots,~0,~0,~0],~\n",
       "  [0,~0,~0,~\\dots,~0,~0,~0],~\n",
       "  \\dots,~\n",
       "  [0,~0,~0,~\\dots,~0,~0,~0],~\n",
       "  [0,~0,~0,~\\dots,~0,~0,~0],~\n",
       "  [0,~0,~0,~\\dots,~0,~0,~0]],~\n",
       "\n",
       " [[0,~0,~0,~\\dots,~0,~0,~0],~\n",
       "  [0,~0,~0,~\\dots,~0,~0,~0],~\n",
       "  [0,~0,~0,~\\dots,~0,~0,~0],~\n",
       "  \\dots,~\n",
       "  [0,~0,~0,~\\dots,~0,~0,~0],~\n",
       "  [0,~0,~0,~\\dots,~0,~0,~0],~\n",
       "  [0,~0,~0,~\\dots,~0,~0,~0]]] \\; \\mathrm{K}$"
      ],
      "text/plain": [
       "<Quantity [[[0., 0., 0., ..., 0., 0., 0.],\n",
       "            [0., 0., 0., ..., 0., 0., 0.],\n",
       "            [0., 0., 0., ..., 0., 0., 0.],\n",
       "            ...,\n",
       "            [0., 0., 0., ..., 0., 0., 0.],\n",
       "            [0., 0., 0., ..., 0., 0., 0.],\n",
       "            [0., 0., 0., ..., 0., 0., 0.]],\n",
       "\n",
       "           [[0., 0., 0., ..., 0., 0., 0.],\n",
       "            [0., 0., 0., ..., 0., 0., 0.],\n",
       "            [0., 0., 0., ..., 0., 0., 0.],\n",
       "            ...,\n",
       "            [0., 0., 0., ..., 0., 0., 0.],\n",
       "            [0., 0., 0., ..., 0., 0., 0.],\n",
       "            [0., 0., 0., ..., 0., 0., 0.]],\n",
       "\n",
       "           [[0., 0., 0., ..., 0., 0., 0.],\n",
       "            [0., 0., 0., ..., 0., 0., 0.],\n",
       "            [0., 0., 0., ..., 0., 0., 0.],\n",
       "            ...,\n",
       "            [0., 0., 0., ..., 0., 0., 0.],\n",
       "            [0., 0., 0., ..., 0., 0., 0.],\n",
       "            [0., 0., 0., ..., 0., 0., 0.]],\n",
       "\n",
       "           ...,\n",
       "\n",
       "           [[0., 0., 0., ..., 0., 0., 0.],\n",
       "            [0., 0., 0., ..., 0., 0., 0.],\n",
       "            [0., 0., 0., ..., 0., 0., 0.],\n",
       "            ...,\n",
       "            [0., 0., 0., ..., 0., 0., 0.],\n",
       "            [0., 0., 0., ..., 0., 0., 0.],\n",
       "            [0., 0., 0., ..., 0., 0., 0.]],\n",
       "\n",
       "           [[0., 0., 0., ..., 0., 0., 0.],\n",
       "            [0., 0., 0., ..., 0., 0., 0.],\n",
       "            [0., 0., 0., ..., 0., 0., 0.],\n",
       "            ...,\n",
       "            [0., 0., 0., ..., 0., 0., 0.],\n",
       "            [0., 0., 0., ..., 0., 0., 0.],\n",
       "            [0., 0., 0., ..., 0., 0., 0.]],\n",
       "\n",
       "           [[0., 0., 0., ..., 0., 0., 0.],\n",
       "            [0., 0., 0., ..., 0., 0., 0.],\n",
       "            [0., 0., 0., ..., 0., 0., 0.],\n",
       "            ...,\n",
       "            [0., 0., 0., ..., 0., 0., 0.],\n",
       "            [0., 0., 0., ..., 0., 0., 0.],\n",
       "            [0., 0., 0., ..., 0., 0., 0.]]] K>"
      ]
     },
     "execution_count": 13,
     "metadata": {},
     "output_type": "execute_result"
    }
   ],
   "source": [
    "# telescope signal\n",
    "obs.signal"
   ]
  },
  {
   "cell_type": "code",
   "execution_count": 14,
   "metadata": {},
   "outputs": [
    {
     "data": {
      "text/latex": [
       "$[0.59160798,~0.59160798,~0.59160798,~0.59160798,~0.59160798,~0.59160798,~0.59160798,~0.59160798,~0.59160798,~0.59160798,~0.59160798,~0.59160798,~0.59160798,~0.59160798,~0.59160798,~0.59160798,~0.59160798,~0.59160798,~0.59160798,~0.59160798,~0.59160798,~0.59160798,~0.59160798,~0.59160798,~0.59160798,~0.59160798,~0.59160798,~0.59160798,~0.59160798,~0.59160798,~0.59160798,~0.59160798,~0.59160798,~0.59160798,~0.59160798,~0.59160798,~0.59160798,~0.59160798,~0.59160798,~0.59160798] \\; \\mathrm{K}$"
      ],
      "text/plain": [
       "<Quantity [0.59160798, 0.59160798, 0.59160798, 0.59160798, 0.59160798,\n",
       "           0.59160798, 0.59160798, 0.59160798, 0.59160798, 0.59160798,\n",
       "           0.59160798, 0.59160798, 0.59160798, 0.59160798, 0.59160798,\n",
       "           0.59160798, 0.59160798, 0.59160798, 0.59160798, 0.59160798,\n",
       "           0.59160798, 0.59160798, 0.59160798, 0.59160798, 0.59160798,\n",
       "           0.59160798, 0.59160798, 0.59160798, 0.59160798, 0.59160798,\n",
       "           0.59160798, 0.59160798, 0.59160798, 0.59160798, 0.59160798,\n",
       "           0.59160798, 0.59160798, 0.59160798, 0.59160798, 0.59160798] K>"
      ]
     },
     "execution_count": 14,
     "metadata": {},
     "output_type": "execute_result"
    }
   ],
   "source": [
    "# telescope noise, one for each frequency band\n",
    "obs.noise"
   ]
  },
  {
   "cell_type": "code",
   "execution_count": 15,
   "metadata": {},
   "outputs": [
    {
     "data": {
      "text/latex": [
       "$[0,~0,~0,~\\dots,~0,~0,~0] \\; \\mathrm{}$"
      ],
      "text/plain": [
       "<Quantity [0., 0., 0., ..., 0., 0., 0.]>"
      ]
     },
     "execution_count": 15,
     "metadata": {},
     "output_type": "execute_result"
    }
   ],
   "source": [
    "# total signal to noise ratio\n",
    "SNR = obs.signal_to_noise()\n",
    "SNR"
   ]
  },
  {
   "cell_type": "code",
   "execution_count": 16,
   "metadata": {},
   "outputs": [],
   "source": [
    "# Select Cosmic FRBs according SNR\n",
    "\n",
    "SNR_min = 1 # minimal signal o noise\n",
    "\n",
    "selected_frbs = frbs[SNR > SNR_min]"
   ]
  },
  {
   "cell_type": "code",
   "execution_count": 17,
   "metadata": {},
   "outputs": [
    {
     "data": {
      "text/html": [
       "<div>\n",
       "<style scoped>\n",
       "    .dataframe tbody tr th:only-of-type {\n",
       "        vertical-align: middle;\n",
       "    }\n",
       "\n",
       "    .dataframe tbody tr th {\n",
       "        vertical-align: top;\n",
       "    }\n",
       "\n",
       "    .dataframe thead th {\n",
       "        text-align: right;\n",
       "    }\n",
       "</style>\n",
       "<table border=\"1\" class=\"dataframe\">\n",
       "  <thead>\n",
       "    <tr style=\"text-align: right;\">\n",
       "      <th></th>\n",
       "      <th>Redshift</th>\n",
       "      <th>Comoving Distance (Mpc)</th>\n",
       "      <th>Luminosity (erg/s)</th>\n",
       "      <th>Flux (Jy * MHz)</th>\n",
       "      <th>Right Ascension (hour)</th>\n",
       "      <th>Declination (degree)</th>\n",
       "      <th>Galactic Longitude (degree)</th>\n",
       "      <th>Galactic Latitude (degree)</th>\n",
       "      <th>Intrinsic Pulse Width (ms)</th>\n",
       "      <th>Arrived Pulse Width (ms)</th>\n",
       "      <th>Galactic DM (pc/cm^3)</th>\n",
       "      <th>Host Galaxy DM (pc/cm^3)</th>\n",
       "      <th>Intergalactic Medium DM (pc/cm^3)</th>\n",
       "      <th>Source DM (pc/cm^3)</th>\n",
       "      <th>Dispersion Measure (pc/cm^3)</th>\n",
       "      <th>Spectral Index</th>\n",
       "      <th>Time (ms)</th>\n",
       "    </tr>\n",
       "  </thead>\n",
       "  <tbody>\n",
       "    <tr>\n",
       "      <th>0</th>\n",
       "      <td>0.233182</td>\n",
       "      <td>974.606053</td>\n",
       "      <td>1.134866e+42</td>\n",
       "      <td>656.630257</td>\n",
       "      <td>12.940116</td>\n",
       "      <td>86.916727</td>\n",
       "      <td>122.854612</td>\n",
       "      <td>30.210780</td>\n",
       "      <td>1.434861</td>\n",
       "      <td>1.769445</td>\n",
       "      <td>50.121224</td>\n",
       "      <td>16.436233</td>\n",
       "      <td>198.647544</td>\n",
       "      <td>44.824152</td>\n",
       "      <td>298.445434</td>\n",
       "      <td>1.768807</td>\n",
       "      <td>1.768807</td>\n",
       "    </tr>\n",
       "    <tr>\n",
       "      <th>1</th>\n",
       "      <td>0.363999</td>\n",
       "      <td>1470.301558</td>\n",
       "      <td>6.545430e+42</td>\n",
       "      <td>1360.148360</td>\n",
       "      <td>6.616067</td>\n",
       "      <td>79.720683</td>\n",
       "      <td>134.362115</td>\n",
       "      <td>26.017255</td>\n",
       "      <td>1.068192</td>\n",
       "      <td>1.457013</td>\n",
       "      <td>58.374251</td>\n",
       "      <td>16.799032</td>\n",
       "      <td>316.064053</td>\n",
       "      <td>9.593762</td>\n",
       "      <td>393.787875</td>\n",
       "      <td>3.273632</td>\n",
       "      <td>3.273632</td>\n",
       "    </tr>\n",
       "  </tbody>\n",
       "</table>\n",
       "</div>"
      ],
      "text/plain": [
       "   Redshift  Comoving Distance (Mpc)  Luminosity (erg/s)  Flux (Jy * MHz)  \\\n",
       "0  0.233182               974.606053        1.134866e+42       656.630257   \n",
       "1  0.363999              1470.301558        6.545430e+42      1360.148360   \n",
       "\n",
       "   Right Ascension (hour)  Declination (degree)  Galactic Longitude (degree)  \\\n",
       "0               12.940116             86.916727                   122.854612   \n",
       "1                6.616067             79.720683                   134.362115   \n",
       "\n",
       "   Galactic Latitude (degree)  Intrinsic Pulse Width (ms)  \\\n",
       "0                   30.210780                    1.434861   \n",
       "1                   26.017255                    1.068192   \n",
       "\n",
       "   Arrived Pulse Width (ms)  Galactic DM (pc/cm^3)  Host Galaxy DM (pc/cm^3)  \\\n",
       "0                  1.769445              50.121224                 16.436233   \n",
       "1                  1.457013              58.374251                 16.799032   \n",
       "\n",
       "   Intergalactic Medium DM (pc/cm^3)  Source DM (pc/cm^3)  \\\n",
       "0                         198.647544            44.824152   \n",
       "1                         316.064053             9.593762   \n",
       "\n",
       "   Dispersion Measure (pc/cm^3)  Spectral Index  Time (ms)  \n",
       "0                    298.445434        1.768807   1.768807  \n",
       "1                    393.787875        3.273632   3.273632  "
      ]
     },
     "execution_count": 17,
     "metadata": {},
     "output_type": "execute_result"
    }
   ],
   "source": [
    "selected_frbs.to_pandas()"
   ]
  },
  {
   "cell_type": "code",
   "execution_count": 18,
   "metadata": {},
   "outputs": [],
   "source": [
    "#Same for observations\n",
    "selected_obs = obs[SNR > SNR_min]"
   ]
  },
  {
   "cell_type": "code",
   "execution_count": 19,
   "metadata": {},
   "outputs": [],
   "source": [
    "# Using more than one criteria, SNR and sampling time\n",
    "\n",
    "w_min = bingo.sampling_time # minimal arrived pulse width\n",
    "\n",
    "selected_frbs = frbs[(SNR > SNR_min) & (frbs.arrived_pulse_width > w_min)]"
   ]
  },
  {
   "cell_type": "code",
   "execution_count": 20,
   "metadata": {},
   "outputs": [
    {
     "data": {
      "text/html": [
       "<div>\n",
       "<style scoped>\n",
       "    .dataframe tbody tr th:only-of-type {\n",
       "        vertical-align: middle;\n",
       "    }\n",
       "\n",
       "    .dataframe tbody tr th {\n",
       "        vertical-align: top;\n",
       "    }\n",
       "\n",
       "    .dataframe thead th {\n",
       "        text-align: right;\n",
       "    }\n",
       "</style>\n",
       "<table border=\"1\" class=\"dataframe\">\n",
       "  <thead>\n",
       "    <tr style=\"text-align: right;\">\n",
       "      <th></th>\n",
       "      <th>Redshift</th>\n",
       "      <th>Comoving Distance (Mpc)</th>\n",
       "      <th>Luminosity (erg/s)</th>\n",
       "      <th>Flux (Jy * MHz)</th>\n",
       "      <th>Right Ascension (hour)</th>\n",
       "      <th>Declination (degree)</th>\n",
       "      <th>Galactic Longitude (degree)</th>\n",
       "      <th>Galactic Latitude (degree)</th>\n",
       "      <th>Intrinsic Pulse Width (ms)</th>\n",
       "      <th>Arrived Pulse Width (ms)</th>\n",
       "      <th>Galactic DM (pc/cm^3)</th>\n",
       "      <th>Host Galaxy DM (pc/cm^3)</th>\n",
       "      <th>Intergalactic Medium DM (pc/cm^3)</th>\n",
       "      <th>Source DM (pc/cm^3)</th>\n",
       "      <th>Dispersion Measure (pc/cm^3)</th>\n",
       "      <th>Spectral Index</th>\n",
       "      <th>Time (ms)</th>\n",
       "    </tr>\n",
       "  </thead>\n",
       "  <tbody>\n",
       "    <tr>\n",
       "      <th>0</th>\n",
       "      <td>0.233182</td>\n",
       "      <td>974.606053</td>\n",
       "      <td>1.134866e+42</td>\n",
       "      <td>656.630257</td>\n",
       "      <td>12.940116</td>\n",
       "      <td>86.916727</td>\n",
       "      <td>122.854612</td>\n",
       "      <td>30.210780</td>\n",
       "      <td>1.434861</td>\n",
       "      <td>1.769445</td>\n",
       "      <td>50.121224</td>\n",
       "      <td>16.436233</td>\n",
       "      <td>198.647544</td>\n",
       "      <td>44.824152</td>\n",
       "      <td>298.445434</td>\n",
       "      <td>1.768807</td>\n",
       "      <td>1.768807</td>\n",
       "    </tr>\n",
       "    <tr>\n",
       "      <th>1</th>\n",
       "      <td>0.363999</td>\n",
       "      <td>1470.301558</td>\n",
       "      <td>6.545430e+42</td>\n",
       "      <td>1360.148360</td>\n",
       "      <td>6.616067</td>\n",
       "      <td>79.720683</td>\n",
       "      <td>134.362115</td>\n",
       "      <td>26.017255</td>\n",
       "      <td>1.068192</td>\n",
       "      <td>1.457013</td>\n",
       "      <td>58.374251</td>\n",
       "      <td>16.799032</td>\n",
       "      <td>316.064053</td>\n",
       "      <td>9.593762</td>\n",
       "      <td>393.787875</td>\n",
       "      <td>3.273632</td>\n",
       "      <td>3.273632</td>\n",
       "    </tr>\n",
       "  </tbody>\n",
       "</table>\n",
       "</div>"
      ],
      "text/plain": [
       "   Redshift  Comoving Distance (Mpc)  Luminosity (erg/s)  Flux (Jy * MHz)  \\\n",
       "0  0.233182               974.606053        1.134866e+42       656.630257   \n",
       "1  0.363999              1470.301558        6.545430e+42      1360.148360   \n",
       "\n",
       "   Right Ascension (hour)  Declination (degree)  Galactic Longitude (degree)  \\\n",
       "0               12.940116             86.916727                   122.854612   \n",
       "1                6.616067             79.720683                   134.362115   \n",
       "\n",
       "   Galactic Latitude (degree)  Intrinsic Pulse Width (ms)  \\\n",
       "0                   30.210780                    1.434861   \n",
       "1                   26.017255                    1.068192   \n",
       "\n",
       "   Arrived Pulse Width (ms)  Galactic DM (pc/cm^3)  Host Galaxy DM (pc/cm^3)  \\\n",
       "0                  1.769445              50.121224                 16.436233   \n",
       "1                  1.457013              58.374251                 16.799032   \n",
       "\n",
       "   Intergalactic Medium DM (pc/cm^3)  Source DM (pc/cm^3)  \\\n",
       "0                         198.647544            44.824152   \n",
       "1                         316.064053             9.593762   \n",
       "\n",
       "   Dispersion Measure (pc/cm^3)  Spectral Index  Time (ms)  \n",
       "0                    298.445434        1.768807   1.768807  \n",
       "1                    393.787875        3.273632   3.273632  "
      ]
     },
     "execution_count": 20,
     "metadata": {},
     "output_type": "execute_result"
    }
   ],
   "source": [
    "selected_frbs.to_pandas()"
   ]
  },
  {
   "cell_type": "code",
   "execution_count": null,
   "metadata": {},
   "outputs": [],
   "source": []
  }
 ],
 "metadata": {
  "kernelspec": {
   "display_name": "Work Environment",
   "language": "python",
   "name": "workenv"
  },
  "language_info": {
   "codemirror_mode": {
    "name": "ipython",
    "version": 3
   },
   "file_extension": ".py",
   "mimetype": "text/x-python",
   "name": "python",
   "nbconvert_exporter": "python",
   "pygments_lexer": "ipython3",
   "version": "3.7.6"
  }
 },
 "nbformat": 4,
 "nbformat_minor": 2
}
