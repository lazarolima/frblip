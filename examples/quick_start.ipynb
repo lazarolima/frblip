{
 "cells": [
  {
   "cell_type": "code",
   "execution_count": 1,
   "metadata": {},
   "outputs": [
    {
     "name": "stderr",
     "output_type": "stream",
     "text": [
      "/home/marcelovargas/.conda/envs/frbenv/lib/python3.8/site-packages/frblip-0.0.1-py3.8.egg/frblip/__init__.py:14: UserWarning: \n",
      "\n",
      "FRBlip is a beta version yet, andis available only for BINGO members.\n",
      "Please do not use it for any othergoals or share the code with someone outside the colaboration.\n",
      "Report any bug to mvsantos_at_protonmail.com\n",
      "\n",
      "  warnings.warn(warning_message)\n"
     ]
    }
   ],
   "source": [
    "import numpy as np\n",
    "\n",
    "import pandas as pd\n",
    "\n",
    "import matplotlib.pyplot as plt\n",
    "\n",
    "from frblip import FastRadioBursts, RadioTelescope"
   ]
  },
  {
   "cell_type": "code",
   "execution_count": 2,
   "metadata": {},
   "outputs": [
    {
     "name": "stdout",
     "output_type": "stream",
     "text": [
      "Computing the FRB rate ...\n",
      "FRB rate = 270010.0 1 / d\n",
      "270010 FRBs will be simulated, the actual rate is 270010.0 1 / d .\n",
      "Therefore it corrensponds to 24.0 h of observation. \n",
      "\n"
     ]
    }
   ],
   "source": [
    "# Create a mock of Cosmic Bursts\n",
    "# run help(CosmicBursts) to check the possible arguments\n",
    "frbs = FastRadioBursts()"
   ]
  },
  {
   "cell_type": "code",
   "execution_count": 3,
   "metadata": {},
   "outputs": [
    {
     "data": {
      "text/plain": [
       "array([[1.30530641],\n",
       "       [5.28964561],\n",
       "       [3.52042335],\n",
       "       ...,\n",
       "       [1.87171453],\n",
       "       [5.35708915],\n",
       "       [1.0646648 ]])"
      ]
     },
     "execution_count": 3,
     "metadata": {},
     "output_type": "execute_result"
    }
   ],
   "source": [
    "# access a quantity\n",
    "frbs.redshift"
   ]
  },
  {
   "cell_type": "code",
   "execution_count": 4,
   "metadata": {},
   "outputs": [
    {
     "data": {
      "text/latex": [
       "$[[9430.6734],~\n",
       " [50924.313],~\n",
       " [31499.722],~\n",
       " \\dots,~\n",
       " [14685.354],~\n",
       " [51683.436],~\n",
       " [7335.1533]] \\; \\mathrm{Mpc}$"
      ],
      "text/plain": [
       "<Quantity [[ 9430.6733935 ],\n",
       "           [50924.31326086],\n",
       "           [31499.72177794],\n",
       "           ...,\n",
       "           [14685.35394088],\n",
       "           [51683.43623245],\n",
       "           [ 7335.15325668]] Mpc>"
      ]
     },
     "execution_count": 4,
     "metadata": {},
     "output_type": "execute_result"
    }
   ],
   "source": [
    "# Note that frblip uses units from astropy package\n",
    "frbs.luminosity_distance"
   ]
  },
  {
   "cell_type": "code",
   "execution_count": 5,
   "metadata": {},
   "outputs": [
    {
     "data": {
      "text/plain": [
       "dict_keys(['zmax', 'L_0', 'Lstar', 'phistar', 'alpha', 'ra_range', 'dec_range', 'lower_frequency', 'higher_frequency', 'cosmo', 'sky_rate', 'area', 'rate', 'n_frb', 'duration', 'redshift', 'comoving_distance', 'luminosity_distance', 'luminosity', 'flux', 'pulse_width', 'arrived_pulse_width', 'time', 'spectral_index', 'S0', 'sky_coord', 'galactic_dispersion', 'host_dispersion', 'source_dispersion', 'igm_dispersion', 'extra_galactic_dispersion', 'dispersion'])"
      ]
     },
     "execution_count": 5,
     "metadata": {},
     "output_type": "execute_result"
    }
   ],
   "source": [
    "# possible quantities and methods\n",
    "frbs.__dict__.keys()"
   ]
  },
  {
   "cell_type": "code",
   "execution_count": 6,
   "metadata": {},
   "outputs": [],
   "source": [
    "# Convert to a pandas dataframe\n",
    "df = frbs.to_pandas()"
   ]
  },
  {
   "cell_type": "code",
   "execution_count": 7,
   "metadata": {},
   "outputs": [
    {
     "data": {
      "text/html": [
       "<div>\n",
       "<style scoped>\n",
       "    .dataframe tbody tr th:only-of-type {\n",
       "        vertical-align: middle;\n",
       "    }\n",
       "\n",
       "    .dataframe tbody tr th {\n",
       "        vertical-align: top;\n",
       "    }\n",
       "\n",
       "    .dataframe thead th {\n",
       "        text-align: right;\n",
       "    }\n",
       "</style>\n",
       "<table border=\"1\" class=\"dataframe\">\n",
       "  <thead>\n",
       "    <tr style=\"text-align: right;\">\n",
       "      <th></th>\n",
       "      <th>Redshift</th>\n",
       "      <th>Comoving Distance (Mpc)</th>\n",
       "      <th>Luminosity (erg/s)</th>\n",
       "      <th>Flux (Jy * MHz)</th>\n",
       "      <th>Right Ascension (hour)</th>\n",
       "      <th>Declination (degree)</th>\n",
       "      <th>Galactic Longitude (degree)</th>\n",
       "      <th>Galactic Latitude (degree)</th>\n",
       "      <th>Intrinsic Pulse Width (ms)</th>\n",
       "      <th>Arrived Pulse Width (ms)</th>\n",
       "      <th>Galactic DM (pc/cm^3)</th>\n",
       "      <th>Host Galaxy DM (pc/cm^3)</th>\n",
       "      <th>Intergalactic Medium DM (pc/cm^3)</th>\n",
       "      <th>Source DM (pc/cm^3)</th>\n",
       "      <th>Dispersion Measure (pc/cm^3)</th>\n",
       "      <th>Spectral Index</th>\n",
       "      <th>Time (ms)</th>\n",
       "    </tr>\n",
       "  </thead>\n",
       "  <tbody>\n",
       "    <tr>\n",
       "      <th>0</th>\n",
       "      <td>0.653467</td>\n",
       "      <td>2438.181079</td>\n",
       "      <td>2.762695e+42</td>\n",
       "      <td>142.068977</td>\n",
       "      <td>4.017328</td>\n",
       "      <td>-50.349878</td>\n",
       "      <td>259.044317</td>\n",
       "      <td>-47.347906</td>\n",
       "      <td>0.946849</td>\n",
       "      <td>1.565584</td>\n",
       "      <td>37.164239</td>\n",
       "      <td>23.321541</td>\n",
       "      <td>582.418572</td>\n",
       "      <td>37.532188</td>\n",
       "      <td>656.386535</td>\n",
       "      <td>-9.987606</td>\n",
       "      <td>323.0</td>\n",
       "    </tr>\n",
       "    <tr>\n",
       "      <th>1</th>\n",
       "      <td>4.338435</td>\n",
       "      <td>7558.683767</td>\n",
       "      <td>7.714819e+42</td>\n",
       "      <td>3.959995</td>\n",
       "      <td>12.904480</td>\n",
       "      <td>-75.941997</td>\n",
       "      <td>303.108401</td>\n",
       "      <td>-13.071219</td>\n",
       "      <td>1.191125</td>\n",
       "      <td>6.358745</td>\n",
       "      <td>161.723494</td>\n",
       "      <td>13.643785</td>\n",
       "      <td>3389.401817</td>\n",
       "      <td>2.813265</td>\n",
       "      <td>3554.208059</td>\n",
       "      <td>13.640946</td>\n",
       "      <td>1458.0</td>\n",
       "    </tr>\n",
       "    <tr>\n",
       "      <th>2</th>\n",
       "      <td>2.444413</td>\n",
       "      <td>5900.372188</td>\n",
       "      <td>9.222434e+41</td>\n",
       "      <td>1.866145</td>\n",
       "      <td>12.861063</td>\n",
       "      <td>85.430386</td>\n",
       "      <td>122.926638</td>\n",
       "      <td>31.697864</td>\n",
       "      <td>1.270316</td>\n",
       "      <td>4.375494</td>\n",
       "      <td>48.143239</td>\n",
       "      <td>57.021956</td>\n",
       "      <td>2107.982875</td>\n",
       "      <td>23.015192</td>\n",
       "      <td>2179.362920</td>\n",
       "      <td>2.898259</td>\n",
       "      <td>2399.0</td>\n",
       "    </tr>\n",
       "    <tr>\n",
       "      <th>3</th>\n",
       "      <td>5.954582</td>\n",
       "      <td>8405.571652</td>\n",
       "      <td>1.341787e+42</td>\n",
       "      <td>0.328168</td>\n",
       "      <td>17.639817</td>\n",
       "      <td>0.231766</td>\n",
       "      <td>24.587412</td>\n",
       "      <td>16.304052</td>\n",
       "      <td>1.167829</td>\n",
       "      <td>8.121761</td>\n",
       "      <td>123.474180</td>\n",
       "      <td>45.441462</td>\n",
       "      <td>4282.020090</td>\n",
       "      <td>48.184123</td>\n",
       "      <td>4418.956701</td>\n",
       "      <td>1.008336</td>\n",
       "      <td>2603.0</td>\n",
       "    </tr>\n",
       "    <tr>\n",
       "      <th>4</th>\n",
       "      <td>1.303189</td>\n",
       "      <td>4086.428105</td>\n",
       "      <td>9.300987e+41</td>\n",
       "      <td>8.775483</td>\n",
       "      <td>3.601905</td>\n",
       "      <td>-16.889835</td>\n",
       "      <td>206.601900</td>\n",
       "      <td>-50.672489</td>\n",
       "      <td>2.028692</td>\n",
       "      <td>4.672461</td>\n",
       "      <td>35.351386</td>\n",
       "      <td>36.871084</td>\n",
       "      <td>1172.274411</td>\n",
       "      <td>6.049528</td>\n",
       "      <td>1226.261091</td>\n",
       "      <td>-13.930987</td>\n",
       "      <td>2646.0</td>\n",
       "    </tr>\n",
       "  </tbody>\n",
       "</table>\n",
       "</div>"
      ],
      "text/plain": [
       "   Redshift  Comoving Distance (Mpc)  Luminosity (erg/s)  Flux (Jy * MHz)  \\\n",
       "0  0.653467              2438.181079        2.762695e+42       142.068977   \n",
       "1  4.338435              7558.683767        7.714819e+42         3.959995   \n",
       "2  2.444413              5900.372188        9.222434e+41         1.866145   \n",
       "3  5.954582              8405.571652        1.341787e+42         0.328168   \n",
       "4  1.303189              4086.428105        9.300987e+41         8.775483   \n",
       "\n",
       "   Right Ascension (hour)  Declination (degree)  Galactic Longitude (degree)  \\\n",
       "0                4.017328            -50.349878                   259.044317   \n",
       "1               12.904480            -75.941997                   303.108401   \n",
       "2               12.861063             85.430386                   122.926638   \n",
       "3               17.639817              0.231766                    24.587412   \n",
       "4                3.601905            -16.889835                   206.601900   \n",
       "\n",
       "   Galactic Latitude (degree)  Intrinsic Pulse Width (ms)  \\\n",
       "0                  -47.347906                    0.946849   \n",
       "1                  -13.071219                    1.191125   \n",
       "2                   31.697864                    1.270316   \n",
       "3                   16.304052                    1.167829   \n",
       "4                  -50.672489                    2.028692   \n",
       "\n",
       "   Arrived Pulse Width (ms)  Galactic DM (pc/cm^3)  Host Galaxy DM (pc/cm^3)  \\\n",
       "0                  1.565584              37.164239                 23.321541   \n",
       "1                  6.358745             161.723494                 13.643785   \n",
       "2                  4.375494              48.143239                 57.021956   \n",
       "3                  8.121761             123.474180                 45.441462   \n",
       "4                  4.672461              35.351386                 36.871084   \n",
       "\n",
       "   Intergalactic Medium DM (pc/cm^3)  Source DM (pc/cm^3)  \\\n",
       "0                         582.418572            37.532188   \n",
       "1                        3389.401817             2.813265   \n",
       "2                        2107.982875            23.015192   \n",
       "3                        4282.020090            48.184123   \n",
       "4                        1172.274411             6.049528   \n",
       "\n",
       "   Dispersion Measure (pc/cm^3)  Spectral Index  Time (ms)  \n",
       "0                    656.386535       -9.987606      323.0  \n",
       "1                   3554.208059       13.640946     1458.0  \n",
       "2                   2179.362920        2.898259     2399.0  \n",
       "3                   4418.956701        1.008336     2603.0  \n",
       "4                   1226.261091      -13.930987     2646.0  "
      ]
     },
     "execution_count": 7,
     "metadata": {},
     "output_type": "execute_result"
    }
   ],
   "source": [
    "df.head()"
   ]
  },
  {
   "cell_type": "code",
   "execution_count": 8,
   "metadata": {},
   "outputs": [],
   "source": [
    "# Save csv file, same pd.DataFrame.to_csv optional arguments can be used\n",
    "frbs.to_csv('mock.csv')"
   ]
  },
  {
   "cell_type": "code",
   "execution_count": 9,
   "metadata": {},
   "outputs": [],
   "source": [
    "# Load a Radio Telescope\n",
    "# run help(RadioTelescope) to check the possible arguments\n",
    "bingo = RadioTelescope()"
   ]
  },
  {
   "cell_type": "code",
   "execution_count": 10,
   "metadata": {},
   "outputs": [],
   "source": [
    "#Perform observations on a mock of Cosmic Bursts \n",
    "frbs.observe(bingo, name='BINGO')"
   ]
  },
  {
   "cell_type": "code",
   "execution_count": 11,
   "metadata": {},
   "outputs": [
    {
     "data": {
      "text/plain": [
       "{'BINGO': <frblip.observation.Observation at 0x7fccd219f460>}"
      ]
     },
     "execution_count": 11,
     "metadata": {},
     "output_type": "execute_result"
    }
   ],
   "source": [
    "# The results are storage on observations\n",
    "frbs.observations"
   ]
  },
  {
   "cell_type": "code",
   "execution_count": 12,
   "metadata": {},
   "outputs": [],
   "source": [
    "# save the results on a npz file\n",
    "frbs.save('mock')"
   ]
  },
  {
   "cell_type": "code",
   "execution_count": 13,
   "metadata": {},
   "outputs": [],
   "source": [
    "# load\n",
    "frbs = FastRadioBursts.load('mock.npz')"
   ]
  },
  {
   "cell_type": "code",
   "execution_count": 14,
   "metadata": {},
   "outputs": [
    {
     "data": {
      "text/plain": [
       "{'BINGO': <Quantity [[0., 0., 0., ..., 0., 0., 0.],\n",
       "            [0., 0., 0., ..., 0., 0., 0.],\n",
       "            [0., 0., 0., ..., 0., 0., 0.],\n",
       "            ...,\n",
       "            [0., 0., 0., ..., 0., 0., 0.],\n",
       "            [0., 0., 0., ..., 0., 0., 0.],\n",
       "            [0., 0., 0., ..., 0., 0., 0.]] Jy>}"
      ]
     },
     "execution_count": 14,
     "metadata": {},
     "output_type": "execute_result"
    }
   ],
   "source": [
    "# Observations signal\n",
    "frbs.signal()"
   ]
  },
  {
   "cell_type": "code",
   "execution_count": 15,
   "metadata": {},
   "outputs": [
    {
     "data": {
      "text/plain": [
       "{'BINGO': <Quantity [0.40498533, 0.39838668, 0.39752764, 0.40172129, 0.41231756,\n",
       "            0.42858647, 0.45163913, 0.39968133, 0.39598545, 0.39809096,\n",
       "            0.40463124, 0.41810544, 0.43712657, 0.46596288, 0.39711966,\n",
       "            0.39573294, 0.3988609 , 0.40732245, 0.42313808, 0.44286225,\n",
       "            0.48588782, 0.40279029, 0.39843933, 0.39873951, 0.40354136,\n",
       "            0.41624406, 0.43308365, 0.46059608] Jy>}"
      ]
     },
     "execution_count": 15,
     "metadata": {},
     "output_type": "execute_result"
    }
   ],
   "source": [
    "# Observations noise, one for each frequency band\n",
    "frbs.noise()"
   ]
  },
  {
   "cell_type": "code",
   "execution_count": 16,
   "metadata": {},
   "outputs": [
    {
     "data": {
      "text/plain": [
       "{'BINGO': array([[0., 0., 0., ..., 0., 0., 0.],\n",
       "        [0., 0., 0., ..., 0., 0., 0.],\n",
       "        [0., 0., 0., ..., 0., 0., 0.],\n",
       "        ...,\n",
       "        [0., 0., 0., ..., 0., 0., 0.],\n",
       "        [0., 0., 0., ..., 0., 0., 0.],\n",
       "        [0., 0., 0., ..., 0., 0., 0.]])}"
      ]
     },
     "execution_count": 16,
     "metadata": {},
     "output_type": "execute_result"
    }
   ],
   "source": [
    "# total signal to noise ratio\n",
    "SNR = frbs.signal_to_noise()\n",
    "SNR"
   ]
  },
  {
   "cell_type": "code",
   "execution_count": 17,
   "metadata": {},
   "outputs": [],
   "source": [
    "# Maximum SNR over the beams\n",
    "SNR_max = SNR['BINGO'].max(axis=-1)"
   ]
  },
  {
   "cell_type": "code",
   "execution_count": 18,
   "metadata": {},
   "outputs": [],
   "source": [
    "# Select Cosmic FRBs according SNR\n",
    "SNR_min = .1 # minimal signal o noise\n",
    "snr_idx = SNR_max > SNR_min"
   ]
  },
  {
   "cell_type": "code",
   "execution_count": 19,
   "metadata": {},
   "outputs": [],
   "source": [
    "selected_frbs = frbs[snr_idx]"
   ]
  },
  {
   "cell_type": "code",
   "execution_count": 20,
   "metadata": {},
   "outputs": [
    {
     "data": {
      "text/plain": [
       "9"
      ]
     },
     "execution_count": 20,
     "metadata": {},
     "output_type": "execute_result"
    }
   ],
   "source": [
    "len(selected_frbs)"
   ]
  },
  {
   "cell_type": "code",
   "execution_count": 21,
   "metadata": {},
   "outputs": [],
   "source": [
    "# Using more than one criteria, SNR and sampling time\n",
    "w_min = bingo.sampling_time # minimal arrived pulse width\n",
    "w_idx = frbs.arrived_pulse_width.ravel() > w_min"
   ]
  },
  {
   "cell_type": "code",
   "execution_count": 22,
   "metadata": {},
   "outputs": [],
   "source": [
    "selected_frbs = frbs[snr_idx & w_idx]"
   ]
  },
  {
   "cell_type": "code",
   "execution_count": 23,
   "metadata": {},
   "outputs": [
    {
     "data": {
      "text/plain": [
       "9"
      ]
     },
     "execution_count": 23,
     "metadata": {},
     "output_type": "execute_result"
    }
   ],
   "source": [
    "len(selected_frbs)"
   ]
  },
  {
   "cell_type": "code",
   "execution_count": null,
   "metadata": {},
   "outputs": [],
   "source": []
  }
 ],
 "metadata": {
  "kernelspec": {
   "display_name": "FRB",
   "language": "python",
   "name": "frbenv"
  },
  "language_info": {
   "codemirror_mode": {
    "name": "ipython",
    "version": 3
   },
   "file_extension": ".py",
   "mimetype": "text/x-python",
   "name": "python",
   "nbconvert_exporter": "python",
   "pygments_lexer": "ipython3",
   "version": "3.8.6"
  }
 },
 "nbformat": 4,
 "nbformat_minor": 2
}
