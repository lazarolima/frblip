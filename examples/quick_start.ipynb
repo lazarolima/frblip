{
 "cells": [
  {
   "cell_type": "code",
   "execution_count": 1,
   "metadata": {},
   "outputs": [
    {
     "name": "stderr",
     "output_type": "stream",
     "text": [
      "/home/marcelo/miniconda3/envs/frb/lib/python3.8/site-packages/frblip-0.0.1-py3.8.egg/frblip/__init__.py:16: UserWarning: \n",
      "\n",
      "FRBlip is a beta version yet, andis available only for BINGO members.\n",
      "Please do not use it for any othergoals or share the code with someone outside the colaboration.\n",
      "Report any bug to mvsantos_at_protonmail.com\n",
      "\n",
      "  warnings.warn(warning_message)\n"
     ]
    }
   ],
   "source": [
    "import numpy as np\n",
    "\n",
    "import pandas as pd\n",
    "\n",
    "import matplotlib.pyplot as plt\n",
    "\n",
    "from frblip import CosmicBursts, RadioTelescope, ObservedBursts"
   ]
  },
  {
   "cell_type": "code",
   "execution_count": 2,
   "metadata": {},
   "outputs": [
    {
     "name": "stdout",
     "output_type": "stream",
     "text": [
      "Computing the FRB rate ...\n",
      "FRB rate = 270010.0 1 / d\n",
      "270010 FRBs will be simulated, the actual rate is 270010.0 1 / d .\n",
      "Therefore it corrensponds to 24.0 h of observation. \n",
      "\n"
     ]
    }
   ],
   "source": [
    "# Create a mock of Cosmic Bursts\n",
    "# run help(CosmicBursts) to check the possible arguments\n",
    "frbs = CosmicBursts()"
   ]
  },
  {
   "cell_type": "code",
   "execution_count": 3,
   "metadata": {},
   "outputs": [
    {
     "data": {
      "text/plain": [
       "array([[1.38508749],\n",
       "       [1.5842029 ],\n",
       "       [3.61049547],\n",
       "       ...,\n",
       "       [3.63727565],\n",
       "       [3.94390417],\n",
       "       [4.13153951]])"
      ]
     },
     "execution_count": 3,
     "metadata": {},
     "output_type": "execute_result"
    }
   ],
   "source": [
    "# access a quantity\n",
    "frbs.redshift"
   ]
  },
  {
   "cell_type": "code",
   "execution_count": 4,
   "metadata": {},
   "outputs": [
    {
     "data": {
      "text/latex": [
       "$[[10146.503],~\n",
       " [11969.77],~\n",
       " [32461.182],~\n",
       " \\dots,~\n",
       " [32748.305],~\n",
       " [36050.785],~\n",
       " [38089.326]] \\; \\mathrm{Mpc}$"
      ],
      "text/plain": [
       "<Quantity [[10146.50343038],\n",
       "           [11969.77008404],\n",
       "           [32461.18175487],\n",
       "           ...,\n",
       "           [32748.30515887],\n",
       "           [36050.78502337],\n",
       "           [38089.3257033 ]] Mpc>"
      ]
     },
     "execution_count": 4,
     "metadata": {},
     "output_type": "execute_result"
    }
   ],
   "source": [
    "# Note that frblip uses units from astropy package\n",
    "frbs.luminosity_distance"
   ]
  },
  {
   "cell_type": "code",
   "execution_count": 5,
   "metadata": {},
   "outputs": [
    {
     "data": {
      "text/plain": [
       "dict_keys(['zmax', 'L_0', 'Lstar', 'phistar', 'alpha', 'ra_range', 'dec_range', 'lower_frequency', 'higher_frequency', 'cosmo', 'sky_rate', 'area', 'rate', 'n_frb', 'duration', 'redshift', 'comoving_distance', 'luminosity_distance', 'luminosity', 'flux', 'pulse_width', 'arrived_pulse_width', 'time', 'spectral_index', 'S0', 'sky_coord', 'galactic_dispersion', 'host_dispersion', 'source_dispersion', 'igm_dispersion', 'extra_galactic_dispersion', 'dispersion'])"
      ]
     },
     "execution_count": 5,
     "metadata": {},
     "output_type": "execute_result"
    }
   ],
   "source": [
    "# possible quantities and methods\n",
    "frbs.__dict__.keys()"
   ]
  },
  {
   "cell_type": "code",
   "execution_count": 6,
   "metadata": {},
   "outputs": [],
   "source": [
    "# Convert to a pandas dataframe\n",
    "df = frbs.to_pandas()"
   ]
  },
  {
   "cell_type": "code",
   "execution_count": 7,
   "metadata": {},
   "outputs": [
    {
     "data": {
      "text/html": [
       "<div>\n",
       "<style scoped>\n",
       "    .dataframe tbody tr th:only-of-type {\n",
       "        vertical-align: middle;\n",
       "    }\n",
       "\n",
       "    .dataframe tbody tr th {\n",
       "        vertical-align: top;\n",
       "    }\n",
       "\n",
       "    .dataframe thead th {\n",
       "        text-align: right;\n",
       "    }\n",
       "</style>\n",
       "<table border=\"1\" class=\"dataframe\">\n",
       "  <thead>\n",
       "    <tr style=\"text-align: right;\">\n",
       "      <th></th>\n",
       "      <th>Redshift</th>\n",
       "      <th>Comoving Distance (Mpc)</th>\n",
       "      <th>Luminosity (erg/s)</th>\n",
       "      <th>Flux (Jy * MHz)</th>\n",
       "      <th>Right Ascension (hour)</th>\n",
       "      <th>Declination (degree)</th>\n",
       "      <th>Galactic Longitude (degree)</th>\n",
       "      <th>Galactic Latitude (degree)</th>\n",
       "      <th>Intrinsic Pulse Width (ms)</th>\n",
       "      <th>Arrived Pulse Width (ms)</th>\n",
       "      <th>Galactic DM (pc/cm^3)</th>\n",
       "      <th>Host Galaxy DM (pc/cm^3)</th>\n",
       "      <th>Intergalactic Medium DM (pc/cm^3)</th>\n",
       "      <th>Source DM (pc/cm^3)</th>\n",
       "      <th>Dispersion Measure (pc/cm^3)</th>\n",
       "      <th>Spectral Index</th>\n",
       "      <th>Time (ms)</th>\n",
       "    </tr>\n",
       "  </thead>\n",
       "  <tbody>\n",
       "    <tr>\n",
       "      <th>0</th>\n",
       "      <td>4.311802</td>\n",
       "      <td>7541.640789</td>\n",
       "      <td>1.390108e+42</td>\n",
       "      <td>0.723973</td>\n",
       "      <td>3.577263</td>\n",
       "      <td>-40.390236</td>\n",
       "      <td>245.164626</td>\n",
       "      <td>-53.960593</td>\n",
       "      <td>1.384621</td>\n",
       "      <td>7.354835</td>\n",
       "      <td>33.508907</td>\n",
       "      <td>14.394278</td>\n",
       "      <td>3373.539085</td>\n",
       "      <td>2.180561</td>\n",
       "      <td>3410.168372</td>\n",
       "      <td>-8.599848</td>\n",
       "      <td>172.0</td>\n",
       "    </tr>\n",
       "    <tr>\n",
       "      <th>1</th>\n",
       "      <td>1.635331</td>\n",
       "      <td>4722.899047</td>\n",
       "      <td>1.546306e+42</td>\n",
       "      <td>8.342512</td>\n",
       "      <td>19.164281</td>\n",
       "      <td>-28.141840</td>\n",
       "      <td>9.141119</td>\n",
       "      <td>-16.145072</td>\n",
       "      <td>1.559244</td>\n",
       "      <td>4.109123</td>\n",
       "      <td>139.058334</td>\n",
       "      <td>133.622641</td>\n",
       "      <td>1458.868360</td>\n",
       "      <td>42.594244</td>\n",
       "      <td>1664.793783</td>\n",
       "      <td>1.446822</td>\n",
       "      <td>664.0</td>\n",
       "    </tr>\n",
       "    <tr>\n",
       "      <th>2</th>\n",
       "      <td>3.058963</td>\n",
       "      <td>6560.776015</td>\n",
       "      <td>1.032653e+43</td>\n",
       "      <td>12.170344</td>\n",
       "      <td>20.091951</td>\n",
       "      <td>-41.489117</td>\n",
       "      <td>358.820767</td>\n",
       "      <td>-30.919689</td>\n",
       "      <td>2.108901</td>\n",
       "      <td>8.559952</td>\n",
       "      <td>65.881588</td>\n",
       "      <td>113.366813</td>\n",
       "      <td>2559.561056</td>\n",
       "      <td>40.276269</td>\n",
       "      <td>2663.295439</td>\n",
       "      <td>-14.192083</td>\n",
       "      <td>1037.0</td>\n",
       "    </tr>\n",
       "    <tr>\n",
       "      <th>3</th>\n",
       "      <td>2.698039</td>\n",
       "      <td>6192.006726</td>\n",
       "      <td>1.730501e+42</td>\n",
       "      <td>2.758387</td>\n",
       "      <td>17.517865</td>\n",
       "      <td>-30.302117</td>\n",
       "      <td>357.155290</td>\n",
       "      <td>1.942035</td>\n",
       "      <td>1.107137</td>\n",
       "      <td>4.094234</td>\n",
       "      <td>936.591347</td>\n",
       "      <td>30.398424</td>\n",
       "      <td>2298.283304</td>\n",
       "      <td>38.626250</td>\n",
       "      <td>3253.539861</td>\n",
       "      <td>10.757828</td>\n",
       "      <td>1191.0</td>\n",
       "    </tr>\n",
       "    <tr>\n",
       "      <th>4</th>\n",
       "      <td>2.710646</td>\n",
       "      <td>6205.791816</td>\n",
       "      <td>9.728861e+41</td>\n",
       "      <td>1.533408</td>\n",
       "      <td>6.541505</td>\n",
       "      <td>38.142701</td>\n",
       "      <td>176.464144</td>\n",
       "      <td>12.933697</td>\n",
       "      <td>0.963799</td>\n",
       "      <td>3.576315</td>\n",
       "      <td>110.724276</td>\n",
       "      <td>13.361740</td>\n",
       "      <td>2307.600880</td>\n",
       "      <td>24.075224</td>\n",
       "      <td>2428.414224</td>\n",
       "      <td>6.658928</td>\n",
       "      <td>1412.0</td>\n",
       "    </tr>\n",
       "  </tbody>\n",
       "</table>\n",
       "</div>"
      ],
      "text/plain": [
       "   Redshift  Comoving Distance (Mpc)  Luminosity (erg/s)  Flux (Jy * MHz)  \\\n",
       "0  4.311802              7541.640789        1.390108e+42         0.723973   \n",
       "1  1.635331              4722.899047        1.546306e+42         8.342512   \n",
       "2  3.058963              6560.776015        1.032653e+43        12.170344   \n",
       "3  2.698039              6192.006726        1.730501e+42         2.758387   \n",
       "4  2.710646              6205.791816        9.728861e+41         1.533408   \n",
       "\n",
       "   Right Ascension (hour)  Declination (degree)  Galactic Longitude (degree)  \\\n",
       "0                3.577263            -40.390236                   245.164626   \n",
       "1               19.164281            -28.141840                     9.141119   \n",
       "2               20.091951            -41.489117                   358.820767   \n",
       "3               17.517865            -30.302117                   357.155290   \n",
       "4                6.541505             38.142701                   176.464144   \n",
       "\n",
       "   Galactic Latitude (degree)  Intrinsic Pulse Width (ms)  \\\n",
       "0                  -53.960593                    1.384621   \n",
       "1                  -16.145072                    1.559244   \n",
       "2                  -30.919689                    2.108901   \n",
       "3                    1.942035                    1.107137   \n",
       "4                   12.933697                    0.963799   \n",
       "\n",
       "   Arrived Pulse Width (ms)  Galactic DM (pc/cm^3)  Host Galaxy DM (pc/cm^3)  \\\n",
       "0                  7.354835              33.508907                 14.394278   \n",
       "1                  4.109123             139.058334                133.622641   \n",
       "2                  8.559952              65.881588                113.366813   \n",
       "3                  4.094234             936.591347                 30.398424   \n",
       "4                  3.576315             110.724276                 13.361740   \n",
       "\n",
       "   Intergalactic Medium DM (pc/cm^3)  Source DM (pc/cm^3)  \\\n",
       "0                        3373.539085             2.180561   \n",
       "1                        1458.868360            42.594244   \n",
       "2                        2559.561056            40.276269   \n",
       "3                        2298.283304            38.626250   \n",
       "4                        2307.600880            24.075224   \n",
       "\n",
       "   Dispersion Measure (pc/cm^3)  Spectral Index  Time (ms)  \n",
       "0                   3410.168372       -8.599848      172.0  \n",
       "1                   1664.793783        1.446822      664.0  \n",
       "2                   2663.295439      -14.192083     1037.0  \n",
       "3                   3253.539861       10.757828     1191.0  \n",
       "4                   2428.414224        6.658928     1412.0  "
      ]
     },
     "execution_count": 7,
     "metadata": {},
     "output_type": "execute_result"
    }
   ],
   "source": [
    "df.head()"
   ]
  },
  {
   "cell_type": "code",
   "execution_count": 8,
   "metadata": {},
   "outputs": [],
   "source": [
    "# Save csv file, same pd.DataFrame.to_csv optional arguments can be used\n",
    "frbs.to_csv('frbs.csv')"
   ]
  },
  {
   "cell_type": "code",
   "execution_count": 9,
   "metadata": {},
   "outputs": [],
   "source": [
    "# Load a Radio Telescope\n",
    "# run help(RadioTelescope) to check the possible arguments\n",
    "bingo = RadioTelescope()"
   ]
  },
  {
   "cell_type": "code",
   "execution_count": 10,
   "metadata": {},
   "outputs": [],
   "source": [
    "#Perform observations on a mock of Cosmic Bursts \n",
    "observations = bingo(frbs)"
   ]
  },
  {
   "cell_type": "code",
   "execution_count": 11,
   "metadata": {},
   "outputs": [],
   "source": [
    "# save the results on a npz file\n",
    "observations.save('teste')"
   ]
  },
  {
   "cell_type": "code",
   "execution_count": 12,
   "metadata": {},
   "outputs": [],
   "source": [
    "# load\n",
    "obs = ObservedBursts.load('teste.npz')"
   ]
  },
  {
   "cell_type": "code",
   "execution_count": 13,
   "metadata": {},
   "outputs": [
    {
     "data": {
      "text/plain": [
       "<bound method ObservedBursts.signal of <frblip.observed_bursts.ObservedBursts object at 0x7f72b759a9a0>>"
      ]
     },
     "execution_count": 13,
     "metadata": {},
     "output_type": "execute_result"
    }
   ],
   "source": [
    "# telescope signal\n",
    "obs.signal"
   ]
  },
  {
   "cell_type": "code",
   "execution_count": 14,
   "metadata": {},
   "outputs": [
    {
     "data": {
      "text/plain": [
       "<bound method ObservedBursts.noise of <frblip.observed_bursts.ObservedBursts object at 0x7f72b759a9a0>>"
      ]
     },
     "execution_count": 14,
     "metadata": {},
     "output_type": "execute_result"
    }
   ],
   "source": [
    "# telescope noise, one for each frequency band\n",
    "obs.noise"
   ]
  },
  {
   "cell_type": "code",
   "execution_count": 15,
   "metadata": {},
   "outputs": [
    {
     "data": {
      "text/plain": [
       "array([[0., 0., 0., ..., 0., 0., 0.],\n",
       "       [0., 0., 0., ..., 0., 0., 0.],\n",
       "       [0., 0., 0., ..., 0., 0., 0.],\n",
       "       ...,\n",
       "       [0., 0., 0., ..., 0., 0., 0.],\n",
       "       [0., 0., 0., ..., 0., 0., 0.],\n",
       "       [0., 0., 0., ..., 0., 0., 0.]])"
      ]
     },
     "execution_count": 15,
     "metadata": {},
     "output_type": "execute_result"
    }
   ],
   "source": [
    "# total signal to noise ratio\n",
    "SNR = obs.signal_to_noise()\n",
    "SNR"
   ]
  },
  {
   "cell_type": "code",
   "execution_count": 16,
   "metadata": {},
   "outputs": [],
   "source": [
    "# Maximum SNR over the beams\n",
    "SNR_max = SNR.max(axis=-1)"
   ]
  },
  {
   "cell_type": "code",
   "execution_count": 17,
   "metadata": {},
   "outputs": [],
   "source": [
    "# Select Cosmic FRBs according SNR\n",
    "\n",
    "SNR_min = 1 # minimal signal o noise\n",
    "snr_idx = SNR_max > SNR_min\n",
    "\n",
    "selected_frbs = frbs[snr_idx]"
   ]
  },
  {
   "cell_type": "code",
   "execution_count": 18,
   "metadata": {},
   "outputs": [
    {
     "data": {
      "text/html": [
       "<div>\n",
       "<style scoped>\n",
       "    .dataframe tbody tr th:only-of-type {\n",
       "        vertical-align: middle;\n",
       "    }\n",
       "\n",
       "    .dataframe tbody tr th {\n",
       "        vertical-align: top;\n",
       "    }\n",
       "\n",
       "    .dataframe thead th {\n",
       "        text-align: right;\n",
       "    }\n",
       "</style>\n",
       "<table border=\"1\" class=\"dataframe\">\n",
       "  <thead>\n",
       "    <tr style=\"text-align: right;\">\n",
       "      <th></th>\n",
       "      <th>Redshift</th>\n",
       "      <th>Comoving Distance (Mpc)</th>\n",
       "      <th>Luminosity (erg/s)</th>\n",
       "      <th>Flux (Jy * MHz)</th>\n",
       "      <th>Right Ascension (hour)</th>\n",
       "      <th>Declination (degree)</th>\n",
       "      <th>Galactic Longitude (degree)</th>\n",
       "      <th>Galactic Latitude (degree)</th>\n",
       "      <th>Intrinsic Pulse Width (ms)</th>\n",
       "      <th>Arrived Pulse Width (ms)</th>\n",
       "      <th>Galactic DM (pc/cm^3)</th>\n",
       "      <th>Host Galaxy DM (pc/cm^3)</th>\n",
       "      <th>Intergalactic Medium DM (pc/cm^3)</th>\n",
       "      <th>Source DM (pc/cm^3)</th>\n",
       "      <th>Dispersion Measure (pc/cm^3)</th>\n",
       "      <th>Spectral Index</th>\n",
       "      <th>Time (ms)</th>\n",
       "    </tr>\n",
       "  </thead>\n",
       "  <tbody>\n",
       "    <tr>\n",
       "      <th>0</th>\n",
       "      <td>0.303508</td>\n",
       "      <td>1245.93165</td>\n",
       "      <td>8.923960e+42</td>\n",
       "      <td>2827.681566</td>\n",
       "      <td>5.631768</td>\n",
       "      <td>1.382588</td>\n",
       "      <td>203.051815</td>\n",
       "      <td>-15.639795</td>\n",
       "      <td>1.61905</td>\n",
       "      <td>2.110445</td>\n",
       "      <td>88.844757</td>\n",
       "      <td>3.044622</td>\n",
       "      <td>261.372585</td>\n",
       "      <td>5.173063</td>\n",
       "      <td>356.521624</td>\n",
       "      <td>-0.936664</td>\n",
       "      <td>-0.936664</td>\n",
       "    </tr>\n",
       "  </tbody>\n",
       "</table>\n",
       "</div>"
      ],
      "text/plain": [
       "   Redshift  Comoving Distance (Mpc)  Luminosity (erg/s)  Flux (Jy * MHz)  \\\n",
       "0  0.303508               1245.93165        8.923960e+42      2827.681566   \n",
       "\n",
       "   Right Ascension (hour)  Declination (degree)  Galactic Longitude (degree)  \\\n",
       "0                5.631768              1.382588                   203.051815   \n",
       "\n",
       "   Galactic Latitude (degree)  Intrinsic Pulse Width (ms)  \\\n",
       "0                  -15.639795                     1.61905   \n",
       "\n",
       "   Arrived Pulse Width (ms)  Galactic DM (pc/cm^3)  Host Galaxy DM (pc/cm^3)  \\\n",
       "0                  2.110445              88.844757                  3.044622   \n",
       "\n",
       "   Intergalactic Medium DM (pc/cm^3)  Source DM (pc/cm^3)  \\\n",
       "0                         261.372585             5.173063   \n",
       "\n",
       "   Dispersion Measure (pc/cm^3)  Spectral Index  Time (ms)  \n",
       "0                    356.521624       -0.936664  -0.936664  "
      ]
     },
     "execution_count": 18,
     "metadata": {},
     "output_type": "execute_result"
    }
   ],
   "source": [
    "selected_frbs.to_pandas()"
   ]
  },
  {
   "cell_type": "code",
   "execution_count": 19,
   "metadata": {},
   "outputs": [],
   "source": [
    "#Same for observations\n",
    "selected_obs = obs[SNR_max > SNR_min]"
   ]
  },
  {
   "cell_type": "code",
   "execution_count": 20,
   "metadata": {},
   "outputs": [],
   "source": [
    "# Using more than one criteria, SNR and sampling time\n",
    "\n",
    "w_min = bingo.sampling_time # minimal arrived pulse width\n",
    "\n",
    "w_idx = frbs.arrived_pulse_width.ravel() > w_min\n",
    "\n",
    "selected_frbs = frbs[snr_idx & w_idx]"
   ]
  },
  {
   "cell_type": "code",
   "execution_count": 21,
   "metadata": {},
   "outputs": [
    {
     "data": {
      "text/html": [
       "<div>\n",
       "<style scoped>\n",
       "    .dataframe tbody tr th:only-of-type {\n",
       "        vertical-align: middle;\n",
       "    }\n",
       "\n",
       "    .dataframe tbody tr th {\n",
       "        vertical-align: top;\n",
       "    }\n",
       "\n",
       "    .dataframe thead th {\n",
       "        text-align: right;\n",
       "    }\n",
       "</style>\n",
       "<table border=\"1\" class=\"dataframe\">\n",
       "  <thead>\n",
       "    <tr style=\"text-align: right;\">\n",
       "      <th></th>\n",
       "      <th>Redshift</th>\n",
       "      <th>Comoving Distance (Mpc)</th>\n",
       "      <th>Luminosity (erg/s)</th>\n",
       "      <th>Flux (Jy * MHz)</th>\n",
       "      <th>Right Ascension (hour)</th>\n",
       "      <th>Declination (degree)</th>\n",
       "      <th>Galactic Longitude (degree)</th>\n",
       "      <th>Galactic Latitude (degree)</th>\n",
       "      <th>Intrinsic Pulse Width (ms)</th>\n",
       "      <th>Arrived Pulse Width (ms)</th>\n",
       "      <th>Galactic DM (pc/cm^3)</th>\n",
       "      <th>Host Galaxy DM (pc/cm^3)</th>\n",
       "      <th>Intergalactic Medium DM (pc/cm^3)</th>\n",
       "      <th>Source DM (pc/cm^3)</th>\n",
       "      <th>Dispersion Measure (pc/cm^3)</th>\n",
       "      <th>Spectral Index</th>\n",
       "      <th>Time (ms)</th>\n",
       "    </tr>\n",
       "  </thead>\n",
       "  <tbody>\n",
       "    <tr>\n",
       "      <th>0</th>\n",
       "      <td>0.303508</td>\n",
       "      <td>1245.93165</td>\n",
       "      <td>8.923960e+42</td>\n",
       "      <td>2827.681566</td>\n",
       "      <td>5.631768</td>\n",
       "      <td>1.382588</td>\n",
       "      <td>203.051815</td>\n",
       "      <td>-15.639795</td>\n",
       "      <td>1.61905</td>\n",
       "      <td>2.110445</td>\n",
       "      <td>88.844757</td>\n",
       "      <td>3.044622</td>\n",
       "      <td>261.372585</td>\n",
       "      <td>5.173063</td>\n",
       "      <td>356.521624</td>\n",
       "      <td>-0.936664</td>\n",
       "      <td>-0.936664</td>\n",
       "    </tr>\n",
       "  </tbody>\n",
       "</table>\n",
       "</div>"
      ],
      "text/plain": [
       "   Redshift  Comoving Distance (Mpc)  Luminosity (erg/s)  Flux (Jy * MHz)  \\\n",
       "0  0.303508               1245.93165        8.923960e+42      2827.681566   \n",
       "\n",
       "   Right Ascension (hour)  Declination (degree)  Galactic Longitude (degree)  \\\n",
       "0                5.631768              1.382588                   203.051815   \n",
       "\n",
       "   Galactic Latitude (degree)  Intrinsic Pulse Width (ms)  \\\n",
       "0                  -15.639795                     1.61905   \n",
       "\n",
       "   Arrived Pulse Width (ms)  Galactic DM (pc/cm^3)  Host Galaxy DM (pc/cm^3)  \\\n",
       "0                  2.110445              88.844757                  3.044622   \n",
       "\n",
       "   Intergalactic Medium DM (pc/cm^3)  Source DM (pc/cm^3)  \\\n",
       "0                         261.372585             5.173063   \n",
       "\n",
       "   Dispersion Measure (pc/cm^3)  Spectral Index  Time (ms)  \n",
       "0                    356.521624       -0.936664  -0.936664  "
      ]
     },
     "execution_count": 21,
     "metadata": {},
     "output_type": "execute_result"
    }
   ],
   "source": [
    "selected_frbs.to_pandas()"
   ]
  },
  {
   "cell_type": "code",
   "execution_count": null,
   "metadata": {},
   "outputs": [],
   "source": []
  }
 ],
 "metadata": {
  "kernelspec": {
   "display_name": "FRB",
   "language": "python",
   "name": "frb"
  },
  "language_info": {
   "codemirror_mode": {
    "name": "ipython",
    "version": 3
   },
   "file_extension": ".py",
   "mimetype": "text/x-python",
   "name": "python",
   "nbconvert_exporter": "python",
   "pygments_lexer": "ipython3",
   "version": "3.8.0"
  }
 },
 "nbformat": 4,
 "nbformat_minor": 2
}
